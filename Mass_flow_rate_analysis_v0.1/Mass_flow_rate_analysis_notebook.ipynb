{
 "cells": [
  {
   "cell_type": "code",
   "execution_count": 1,
   "metadata": {},
   "outputs": [],
   "source": [
    "from MassFlowRateAnalysis import mass_flow_rate_analysis"
   ]
  },
  {
   "cell_type": "code",
   "execution_count": 3,
   "metadata": {},
   "outputs": [],
   "source": [
    "directory_file='direcory_list.json'\n",
    "excel_file='report.xlsx'\n",
    "\n",
    "mfra=mass_flow_rate_analysis()\n",
    "# Load files and prepare data\n",
    "data_all,data_stat_all,mass_flow_avr,pressure_avr,cases_list,data_case,data_stat_case,data_df_header,data_stats_header=mfra.data_arr(directory_file,4,3,50)\n",
    "# Write data into Excel\n",
    "df_main,temp_df_1,temp_df_3,temp_df_4,dict_info=mfra.save_excel(excel_file,data_all,data_stat_all,mass_flow_avr,pressure_avr,cases_list,data_df_header,data_stats_header)\n",
    "# Create charts in Excel\n",
    "mfra.add_chart(excel_file,temp_df_1,temp_df_3,temp_df_4,dict_info)"
   ]
  }
 ],
 "metadata": {
  "kernelspec": {
   "display_name": "base",
   "language": "python",
   "name": "python3"
  },
  "language_info": {
   "codemirror_mode": {
    "name": "ipython",
    "version": 3
   },
   "file_extension": ".py",
   "mimetype": "text/x-python",
   "name": "python",
   "nbconvert_exporter": "python",
   "pygments_lexer": "ipython3",
   "version": "3.9.12"
  },
  "orig_nbformat": 4
 },
 "nbformat": 4,
 "nbformat_minor": 2
}
