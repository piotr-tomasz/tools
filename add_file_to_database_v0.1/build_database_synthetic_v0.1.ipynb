{
 "cells": [
  {
   "cell_type": "code",
   "execution_count": 1,
   "metadata": {},
   "outputs": [],
   "source": [
    "from display_tk_window import *\n",
    "from db_quickview import *\n",
    "from final_add_files import *\n",
    "from read_database_from_file import *\n",
    "from display_avr_data_frame import *\n",
    "from plot_massflow_from_avr_data import *"
   ]
  },
  {
   "attachments": {},
   "cell_type": "markdown",
   "metadata": {},
   "source": [
    "## Description"
   ]
  },
  {
   "attachments": {},
   "cell_type": "markdown",
   "metadata": {},
   "source": [
    "---\n",
    "\n",
    "The code is intended to read some specific files from experimental measurements of mass flow rate through some device. The measurements equipment allowed to acquire  \n",
    "pressure, temperature, LPM (liter per minute) and SLPM (standard liter per minute) by means of two mass flow meters and three additional pressure points using pressure sensors. \n",
    "Finally, the mass flow rate is calculated based on delivered data.\n",
    "\n",
    "\n",
    "**How does it work?**\n",
    "\n",
    "A single measurement point consist of multiple samples e.g. 100, which are stored in one file. Several points can be measured within single experiment and all of them are stored in one folder.\n",
    "During measurement campaign multiple configuration can be tested, thus the original measurement directory consist of numerous folders.\n",
    "\n",
    "The advantage of the presented code is to gather all files into single database. It is more convenient way to extract data from files and allows to compare different configuration.\n",
    "\n",
    "Beside of the application, the example database is shared. It is synthetic data, prepared only in order to demonstrate capabilities of the application.\n",
    "\n",
    "*Operation*\n",
    "\n",
    "In first step the application reads files from provided directory, calculate mass flow rate and average all data. Then, the raw data from files and new averaged values are copied to general database. \n",
    "Finally new single file with all data is saved in *.json file.\n",
    "\n",
    "On current stage it is necessary to provide manually a directory of measurement files. What is more, one should fulfil date of conducted experiment and name of particular measurement set (*case name*). \n",
    "It is also useful to fill *description* and *additional info* sections. (See *Data to Read* section and *datadict* dictionary)\n",
    "\n",
    "User can choose whether to create new database or read existing one from *.json file (see *read_database_from_file* function)\n",
    "\n",
    "---"
   ]
  },
  {
   "attachments": {},
   "cell_type": "markdown",
   "metadata": {},
   "source": [
    "---\n",
    "Function description:\n",
    "- **final_add_files** - Create database from files and save it into *.json file. \n",
    "    - *Function arguments:* \n",
    "        - Dictionary with files directory,\n",
    "        - Output JSON database directory.\n",
    "- **display_tk_window** - Display window with database tree view. \n",
    "    - *Function arguments:* \n",
    "        - Temrorary database within the code,\n",
    "        - (Optional) Window size (default 500x500).\n",
    "- **db_quickview** - Quick preview of the database content. \n",
    "    - *Function argument:* \n",
    "        - Temporary database within the code.\n",
    "- **display_avr_data_frame** - Display DataFrame from selected data from which a plot can be drawn. \n",
    "    - *Function arguments:* \n",
    "        - Temporary database within the code,\n",
    "        - Date when the measurements files were created,\n",
    "        - Measurement case name.*\n",
    "- **plot_massflow_from_avr_data** - Draw a plot of mass flow rate in function of pressure .\n",
    "    - *Function arguments:* \n",
    "        - Temporary database within the code,\n",
    "        - Date when the measurements files were created,\n",
    "        - Measurement case name,\n",
    "        - (Optional) ==Plot size== (default 8x8).\n",
    "- **read_database_from_file** - Read database from file.\n",
    "    - *Function argument:*\n",
    "        - Directory of a database\n",
    "---"
   ]
  },
  {
   "attachments": {},
   "cell_type": "markdown",
   "metadata": {},
   "source": [
    "## Data to read"
   ]
  },
  {
   "cell_type": "code",
   "execution_count": 2,
   "metadata": {},
   "outputs": [],
   "source": [
    "datadict={0: {'folder_path': r'F:\\\\database\\\\test_20220522_conf_1',\n",
    "  'general_date': '2022-05-22',\n",
    "  'case_name': 'run_c1_v1',\n",
    "  'description': 'c1v1',\n",
    "  'additional_info': 'c1v1'},\n",
    " 1: {'folder_path': r'F:\\\\database\\\\test_20220522_conf_2',\n",
    "  'general_date': '2022-05-22',\n",
    "  'case_name': 'run_c2_v1',\n",
    "  'description': 'c2v1',\n",
    "  'additional_info': 'c2v1'},\n",
    " 2: {'folder_path': r'F:\\\\database\\\\test_20220522_conf_3',\n",
    "  'general_date': '2022-05-22',\n",
    "  'case_name': 'run_c3_v1',\n",
    "  'description': 'c3v1',\n",
    "  'additional_info': 'c3v1'},\n",
    " 3: {'folder_path': r'F:\\\\database\\\\test_20220522_conf_4',\n",
    "  'general_date': '2022-05-22',\n",
    "  'case_name': 'run_c4_v1',\n",
    "  'description': 'c4v1',\n",
    "  'additional_info': 'c4v1'},\n",
    " 4: {'folder_path': r'F:\\\\database\\\\test_20220605_design_2_v1',\n",
    "  'general_date': '2022-06-05',\n",
    "  'case_name': 'run_d2_v1',\n",
    "  'description': 'd2v1',\n",
    "  'additional_info': 'd2v1'},\n",
    " 5: {'folder_path': r'F:\\\\database\\\\test_20220605_design_2_v2',\n",
    "  'general_date': '2022-06-05',\n",
    "  'case_name': 'run_d2_v2',\n",
    "  'description': 'd2v2',\n",
    "  'additional_info': 'd2v2'},\n",
    " 6: {'folder_path': r'F:\\\\database\\\\test_20220610_design_2_v3',\n",
    "  'general_date': '2022-06-10',\n",
    "  'case_name': 'run_d2_v3',\n",
    "  'description': 'd2v3',\n",
    "  'additional_info': 'd2v3'},\n",
    " 7: {'folder_path': r'F:\\\\database\\\\test_20220611_design_2_v4',\n",
    "  'general_date': '2022-06-11',\n",
    "  'case_name': 'run_d2_v4',\n",
    "  'description': 'd2v4',\n",
    "  'additional_info': 'd2v4'},\n",
    " 8: {'folder_path': r'F:\\\\database\\\\test_20220723_design_3_v1',\n",
    "  'general_date': '2022-07-23',\n",
    "  'case_name': 'run_d3_v1',\n",
    "  'description': 'd3v1',\n",
    "  'additional_info': 'd3v1'},\n",
    " 9: {'folder_path': r'F:\\\\database\\\\test_20220727_design_3_v2',\n",
    "  'general_date': '2022-07-27',\n",
    "  'case_name': 'run_d3_v2',\n",
    "  'description': 'd3v2',\n",
    "  'additional_info': 'd3v2'},\n",
    " 10: {'folder_path': r'F:\\\\database\\\\test_20220811_design_4_v1',\n",
    "  'general_date': '2022-07-11',\n",
    "  'case_name': 'run_d4_v1',\n",
    "  'description': 'd4v1',\n",
    "  'additional_info': 'd4v1'},\n",
    " 11: {'folder_path': r'F:\\\\database\\\\test_20220813_design_5_v1',\n",
    "  'general_date': '2022-08-13',\n",
    "  'case_name': 'run_d5_v1',\n",
    "  'description': 'd5v1',\n",
    "  'additional_info': 'd5v1'}}"
   ]
  },
  {
   "attachments": {},
   "cell_type": "markdown",
   "metadata": {},
   "source": [
    "## Main"
   ]
  },
  {
   "cell_type": "code",
   "execution_count": 3,
   "metadata": {},
   "outputs": [],
   "source": [
    "# Create database form multiple files\n",
    "measurements=final_add_files(datadict,r'F:\\database\\20230105_database_v1.0.json')"
   ]
  },
  {
   "cell_type": "code",
   "execution_count": 9,
   "metadata": {},
   "outputs": [],
   "source": [
    "# If database is already exist, can be read from file by means this function\n",
    "measurements=read_database_from_file(r'F:\\database\\20230105_database_v1.0.json')"
   ]
  },
  {
   "cell_type": "code",
   "execution_count": 4,
   "metadata": {},
   "outputs": [],
   "source": [
    "# Display database tree\n",
    "display_tk_window(measurements,window_size='500x500')"
   ]
  },
  {
   "cell_type": "code",
   "execution_count": 5,
   "metadata": {},
   "outputs": [
    {
     "name": "stdout",
     "output_type": "stream",
     "text": [
      "2022-05-22 - run_c1_v1 - c1v1\n",
      "2022-05-22 - run_c2_v1 - c2v1\n",
      "2022-05-22 - run_c3_v1 - c3v1\n",
      "2022-05-22 - run_c4_v1 - c4v1\n",
      "2022-06-05 - run_d2_v1 - d2v1\n",
      "2022-06-05 - run_d2_v2 - d2v2\n",
      "2022-06-10 - run_d2_v3 - d2v3\n",
      "2022-06-11 - run_d2_v4 - d2v4\n",
      "2022-07-11 - run_d4_v1 - d4v1\n",
      "2022-07-23 - run_d3_v1 - d3v1\n",
      "2022-07-27 - run_d3_v2 - d3v2\n",
      "2022-08-13 - run_d5_v1 - d5v1\n"
     ]
    }
   ],
   "source": [
    "# Quick preview of the database content\n",
    "db_quickview(measurements)"
   ]
  },
  {
   "cell_type": "code",
   "execution_count": 6,
   "metadata": {},
   "outputs": [
    {
     "data": {
      "text/html": [
       "<div>\n",
       "<style scoped>\n",
       "    .dataframe tbody tr th:only-of-type {\n",
       "        vertical-align: middle;\n",
       "    }\n",
       "\n",
       "    .dataframe tbody tr th {\n",
       "        vertical-align: top;\n",
       "    }\n",
       "\n",
       "    .dataframe thead th {\n",
       "        text-align: right;\n",
       "    }\n",
       "</style>\n",
       "<table border=\"1\" class=\"dataframe\">\n",
       "  <thead>\n",
       "    <tr style=\"text-align: right;\">\n",
       "      <th></th>\n",
       "      <th>Sample Nb.,[-]</th>\n",
       "      <th>Measurement time,[s]</th>\n",
       "      <th>Pressure-1,[kPa]</th>\n",
       "      <th>Temperature-1,[0C]</th>\n",
       "      <th>LPM-1,[l/min]</th>\n",
       "      <th>SLPM-1,[l/min]</th>\n",
       "      <th>Pressure-2,[kPa]</th>\n",
       "      <th>Temperature-2,[0C]</th>\n",
       "      <th>LPM-2,[l/min]</th>\n",
       "      <th>SLPM-2,[l/min]</th>\n",
       "      <th>Pt1,[kPa]</th>\n",
       "      <th>Pt2,[kPa]</th>\n",
       "      <th>Pt3,[kPa]</th>\n",
       "      <th>Mass flow rate - A1 [g/s]</th>\n",
       "      <th>Mass flow rate - A2 [g/s]</th>\n",
       "    </tr>\n",
       "  </thead>\n",
       "  <tbody>\n",
       "    <tr>\n",
       "      <th>0</th>\n",
       "      <td>100.5</td>\n",
       "      <td>1.005</td>\n",
       "      <td>111.739978</td>\n",
       "      <td>22.065751</td>\n",
       "      <td>143.504257</td>\n",
       "      <td>159.980433</td>\n",
       "      <td>119.211914</td>\n",
       "      <td>23.005305</td>\n",
       "      <td>113.983200</td>\n",
       "      <td>135.390842</td>\n",
       "      <td>133.414524</td>\n",
       "      <td>202.871427</td>\n",
       "      <td>133.910420</td>\n",
       "      <td>3.157282</td>\n",
       "      <td>2.671996</td>\n",
       "    </tr>\n",
       "    <tr>\n",
       "      <th>1</th>\n",
       "      <td>100.5</td>\n",
       "      <td>1.005</td>\n",
       "      <td>159.882138</td>\n",
       "      <td>22.113161</td>\n",
       "      <td>148.416066</td>\n",
       "      <td>164.978287</td>\n",
       "      <td>167.395459</td>\n",
       "      <td>23.055854</td>\n",
       "      <td>123.191920</td>\n",
       "      <td>145.286225</td>\n",
       "      <td>181.472823</td>\n",
       "      <td>252.072421</td>\n",
       "      <td>181.894564</td>\n",
       "      <td>3.255916</td>\n",
       "      <td>2.867285</td>\n",
       "    </tr>\n",
       "    <tr>\n",
       "      <th>2</th>\n",
       "      <td>100.5</td>\n",
       "      <td>1.005</td>\n",
       "      <td>208.096919</td>\n",
       "      <td>22.123390</td>\n",
       "      <td>152.958188</td>\n",
       "      <td>171.122759</td>\n",
       "      <td>215.524649</td>\n",
       "      <td>23.021480</td>\n",
       "      <td>132.334175</td>\n",
       "      <td>155.962909</td>\n",
       "      <td>228.622068</td>\n",
       "      <td>299.855547</td>\n",
       "      <td>229.998963</td>\n",
       "      <td>3.377180</td>\n",
       "      <td>3.077994</td>\n",
       "    </tr>\n",
       "    <tr>\n",
       "      <th>3</th>\n",
       "      <td>100.5</td>\n",
       "      <td>1.005</td>\n",
       "      <td>256.238253</td>\n",
       "      <td>22.111902</td>\n",
       "      <td>157.718517</td>\n",
       "      <td>175.594305</td>\n",
       "      <td>263.735638</td>\n",
       "      <td>23.066734</td>\n",
       "      <td>141.965686</td>\n",
       "      <td>165.911390</td>\n",
       "      <td>277.073970</td>\n",
       "      <td>348.335226</td>\n",
       "      <td>278.920598</td>\n",
       "      <td>3.465428</td>\n",
       "      <td>3.274332</td>\n",
       "    </tr>\n",
       "    <tr>\n",
       "      <th>4</th>\n",
       "      <td>100.5</td>\n",
       "      <td>1.005</td>\n",
       "      <td>304.371743</td>\n",
       "      <td>22.094078</td>\n",
       "      <td>163.217388</td>\n",
       "      <td>180.658324</td>\n",
       "      <td>311.882793</td>\n",
       "      <td>23.075937</td>\n",
       "      <td>151.688493</td>\n",
       "      <td>176.533031</td>\n",
       "      <td>327.758746</td>\n",
       "      <td>395.121069</td>\n",
       "      <td>327.507120</td>\n",
       "      <td>3.565369</td>\n",
       "      <td>3.483954</td>\n",
       "    </tr>\n",
       "  </tbody>\n",
       "</table>\n",
       "</div>"
      ],
      "text/plain": [
       "   Sample Nb.,[-]  Measurement time,[s]  Pressure-1,[kPa]  Temperature-1,[0C]  \\\n",
       "0           100.5                 1.005        111.739978           22.065751   \n",
       "1           100.5                 1.005        159.882138           22.113161   \n",
       "2           100.5                 1.005        208.096919           22.123390   \n",
       "3           100.5                 1.005        256.238253           22.111902   \n",
       "4           100.5                 1.005        304.371743           22.094078   \n",
       "\n",
       "   LPM-1,[l/min]  SLPM-1,[l/min]  Pressure-2,[kPa]  Temperature-2,[0C]  \\\n",
       "0     143.504257      159.980433        119.211914           23.005305   \n",
       "1     148.416066      164.978287        167.395459           23.055854   \n",
       "2     152.958188      171.122759        215.524649           23.021480   \n",
       "3     157.718517      175.594305        263.735638           23.066734   \n",
       "4     163.217388      180.658324        311.882793           23.075937   \n",
       "\n",
       "   LPM-2,[l/min]  SLPM-2,[l/min]   Pt1,[kPa]   Pt2,[kPa]   Pt3,[kPa]  \\\n",
       "0     113.983200      135.390842  133.414524  202.871427  133.910420   \n",
       "1     123.191920      145.286225  181.472823  252.072421  181.894564   \n",
       "2     132.334175      155.962909  228.622068  299.855547  229.998963   \n",
       "3     141.965686      165.911390  277.073970  348.335226  278.920598   \n",
       "4     151.688493      176.533031  327.758746  395.121069  327.507120   \n",
       "\n",
       "   Mass flow rate - A1 [g/s]  Mass flow rate - A2 [g/s]  \n",
       "0                   3.157282                   2.671996  \n",
       "1                   3.255916                   2.867285  \n",
       "2                   3.377180                   3.077994  \n",
       "3                   3.465428                   3.274332  \n",
       "4                   3.565369                   3.483954  "
      ]
     },
     "execution_count": 6,
     "metadata": {},
     "output_type": "execute_result"
    }
   ],
   "source": [
    "# Display dataframe with averaged data\n",
    "dff = display_avr_data_frame(measurements,'2022-05-22','run_c1_v1')\n",
    "dff.head(5)"
   ]
  },
  {
   "cell_type": "code",
   "execution_count": 7,
   "metadata": {},
   "outputs": [
    {
     "data": {
      "image/png": "[encoded data removed]",
      "text/plain": [
       "<Figure size 720x720 with 1 Axes>"
      ]
     },
     "metadata": {
      "needs_background": "light"
     },
     "output_type": "display_data"
    }
   ],
   "source": [
    "# Draw a plot of mass flow rate in function of pressure\n",
    "plot_massflow_from_avr_data(measurements,'2022-05-22','run_c1_v1',figsize=(10,10))"
   ]
  }
 ],
 "metadata": {
  "kernelspec": {
   "display_name": "base",
   "language": "python",
   "name": "python3"
  },
  "language_info": {
   "codemirror_mode": {
    "name": "ipython",
    "version": 3
   },
   "file_extension": ".py",
   "mimetype": "text/x-python",
   "name": "python",
   "nbconvert_exporter": "python",
   "pygments_lexer": "ipython3",
   "version": "3.9.12"
  },
  "orig_nbformat": 4,
  "vscode": {
   "interpreter": {
    "hash": "3896d6b9bbf0a9f2bd9f8750ed2e51c1d9223af63e53ef317da329cca0ef0861"
   }
  }
 },
 "nbformat": 4,
 "nbformat_minor": 2
}
